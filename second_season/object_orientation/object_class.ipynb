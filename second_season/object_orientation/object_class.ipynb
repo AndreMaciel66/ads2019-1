{
 "cells": [
  {
   "cell_type": "markdown",
   "metadata": {},
   "source": [
    "# Orientação à Objetos\n",
    "---\n",
    "### Análise e Desenvolvimento de Sistemas\n",
    "\n",
    "### 2o. Período\n",
    "\n",
    "Professor: Igor\n",
    "\n",
    "Aluno: André Maciel"
   ]
  },
  {
   "cell_type": "markdown",
   "metadata": {},
   "source": [
    "* Exemplos de Objeto e métodos abaixo"
   ]
  },
  {
   "cell_type": "code",
   "execution_count": 7,
   "metadata": {},
   "outputs": [],
   "source": [
    "class Dogs:\n",
    "    def __init__(self, name, race, color, age):\n",
    "        self.name = name\n",
    "        self.race = race\n",
    "        self.color = color\n",
    "        self.age = age\n",
    "\n",
    "    def bark(self):\n",
    "        print('Dog {name} is barking'.format(name=self.name))\n",
    "\n",
    "    def walk(self):\n",
    "        print('Dog {name} is walking'.format(name=self.name))\n",
    "\n",
    "    def play(self):\n",
    "        print('Dog {name} is playing'.format(name=self.name))\n",
    "\n",
    "\n",
    "dog1 = Dogs('Jon', 'Spitz', 'white', 4)\n",
    "dog2 = Dogs('Mel', 'vl', 'black', 2)\n",
    "dog3 = Dogs('Bobby', 'Cofap', 'brown', 4)"
   ]
  },
  {
   "cell_type": "code",
   "execution_count": 4,
   "metadata": {},
   "outputs": [
    {
     "name": "stdout",
     "output_type": "stream",
     "text": [
      "Dog Jon is playing\n"
     ]
    }
   ],
   "source": [
    "dog1.play()"
   ]
  },
  {
   "cell_type": "markdown",
   "metadata": {},
   "source": [
    "## Tipos de Dados\n",
    "\n",
    "### O que é?\n",
    "- É um conjunto de valores/operadores que indicam para o computador o quanto de espaço será necessário para armazenar informações;\n",
    "- O tipo de dado pode ser verificado em tempo de compilação ou em tempo de execução;\n",
    "\n",
    "### Tipos\n",
    "- Tipos primitivos/nativos e Tipos Compostos\n",
    "- Tipos primitivos podem variar de uma linguagem de programação para outra\n",
    "- Tipos Compostos podem ser construídos à patir de tipos primitivos e/ou outros tipos compostos\n",
    "\n",
    "#### Tipos primitivos\n",
    "- Caracteres\n",
    "- Números Inteiros (positivos e/ou negativos)\n",
    "- Ponto Flutuante (positivos e/ou negativos)\n",
    "- Booleanos (verdadeiro ou falso)\n",
    "- Referências\n",
    "\n",
    "## Variáveis\n",
    "- É uma referência/propriedade usada para acessar informações na memória do computador\n",
    "- São associadas a nomes: os identificadores\n",
    "- Contexto global ou Contexto local\n",
    "- Podemos atribuir valor usando o símbolo de igualdade (=)\n",
    "\n",
    "## Tipos + Variáveis\n",
    "- Com tipos conseguimos indicar a quantidade de memória que será alocada para um fim\n",
    "- Com variáveis obtemos uma referência de onde iremos gravar/ler informações\n",
    "\n",
    ">**Nome do Tipo** Nome da Variável\n",
    "\n",
    "- **int** idade\n",
    "- **boolean** eSolteiro\n",
    "- **float** = Salario\n",
    "\n",
    "### Sintaxe para Acessar **propriedades** da classe\n",
    "\n",
    "- clienteIgor.idade = 30\n",
    "- clienteIgor.salario = 350\n",
    "- clienteIgor.eSolteiro = False\n",
    "\n",
    "Estado (Propriedades) do Objeto\n",
    "\n",
    "- Para representar as propriedades de um Objeto para o computador usamos **variáveis tipadas**\n",
    "- Podemos utilizar Tipos Primitivos e/ou Tipos Compostos nos Objetos"
   ]
  },
  {
   "cell_type": "code",
   "execution_count": 8,
   "metadata": {},
   "outputs": [],
   "source": [
    "class Clientes:\n",
    "    def __init__(self, name, idade, estado_civil, salario):\n",
    "        self.name = name\n",
    "        self.idade = idade\n",
    "        self.estado_civil = estado_civil\n",
    "        self.salario = salario\n",
    "    \n",
    "    def aumentar_salario(self, valor_aumento):\n",
    "        self.salario = self.salario + valor_aumento\n",
    "        print('Novo Salario = {salario}'.format(salario=self.salario))"
   ]
  },
  {
   "cell_type": "code",
   "execution_count": 9,
   "metadata": {},
   "outputs": [],
   "source": [
    "cliente_andre = Clientes('Andre', 30, 'Casado', 200)"
   ]
  },
  {
   "cell_type": "markdown",
   "metadata": {},
   "source": [
    "## Comportamentos dos Objetos\n",
    "- Os comportamentos das classes e objetos são representados por meio dos Métodos\n",
    "- Em linguagem tipadas os métodos apresentam retornos tipados\n",
    "- Em linguagem não tipadas os métodos podem ou não representar...\n",
    "\n",
    "### Métodos\n",
    "- Métodos são procedimentos computacionais realizados pelo processador do computador.\n",
    "  - Paradigma procedimental\n",
    "- Métodos são análogos a funções da programação procedimental\n",
    "- Métodos podem alterar o estado (propriedades) do Objeto\n",
    "- Objetos **enviam mensagens** para outros Objetos ao \"chamar\" os seus métodos\n",
    "- Objetos não devem acessar diretamente as propriedades de outros Objetos\n",
    "- Objetos devem acessar apenas os métodos de outros objetos\n",
    "\n",
    "### Métodos Tipados (Sintaxe)\n",
    "- Assinatura do método\n",
    "  - Tipo do retorno\n",
    "  - Nome do Método\n",
    "  - Parâmetros de entrada (Tipados)\n",
    "- Procedimento a ser executado\n",
    "- Retorno"
   ]
  },
  {
   "cell_type": "code",
   "execution_count": 10,
   "metadata": {},
   "outputs": [
    {
     "name": "stdout",
     "output_type": "stream",
     "text": [
      "Novo Salario = 500\n"
     ]
    }
   ],
   "source": [
    "cliente_andre.aumentar_salario(300)"
   ]
  },
  {
   "cell_type": "code",
   "execution_count": 12,
   "metadata": {},
   "outputs": [
    {
     "data": {
      "text/plain": [
       "100"
      ]
     },
     "execution_count": 12,
     "metadata": {},
     "output_type": "execute_result"
    }
   ],
   "source": [
    "cliente_andre.salario"
   ]
  },
  {
   "cell_type": "code",
   "execution_count": 11,
   "metadata": {},
   "outputs": [
    {
     "name": "stdout",
     "output_type": "stream",
     "text": [
      "Novo Salario = 100\n"
     ]
    }
   ],
   "source": [
    "cliente_andre.aumentar_salario(-400)"
   ]
  },
  {
   "cell_type": "markdown",
   "metadata": {},
   "source": [
    "### Parâmetros e Argumentos\n",
    "\n",
    "- Dentro dos métodos, os parâmetros serão os valores que serão usados no procedimento\n",
    "- Argumentos são os valores que são passados para os métodos\n",
    "\n",
    "### Retorno\n",
    "- O retorno é o valor de resposta do método após o procedimento ser executado\n",
    "- Um método pode não ter um Retorno e apenas executar o procedimento\n",
    "- Nesse caso esse método deve ser assinado com o tipo **void** no caso da linguagem java"
   ]
  },
  {
   "cell_type": "markdown",
   "metadata": {},
   "source": [
    "### Exercícios\n",
    "---\n",
    "Criar os seguintes intens em Classes: (apresente pelo menos 4 atributos, 3 comportamentos)\n",
    "\n",
    "Cachorro, Leao, Carro, Moto, Aluno, Professor, Casa, Apartamento, Carta, Livro"
   ]
  },
  {
   "cell_type": "code",
   "execution_count": 16,
   "metadata": {},
   "outputs": [],
   "source": [
    "# Cachorro\n",
    "\n",
    "class Cachorro:\n",
    "    def __init__(self, nome, raca, cor, peso):\n",
    "        self.nome = nome\n",
    "        self.raca = raca\n",
    "        self.cor = cor\n",
    "        self.peso = peso\n",
    "    \n",
    "    def soma_peso(self, agg_peso):\n",
    "        self.peso = self.peso + agg_peso\n",
    "    \n",
    "    def correr(self, metros):\n",
    "        self.peso = self.peso - peso_perdido(metros)        "
   ]
  },
  {
   "cell_type": "markdown",
   "metadata": {},
   "source": [
    "Cria formula para calcular peso perdido sobre "
   ]
  },
  {
   "cell_type": "code",
   "execution_count": 15,
   "metadata": {},
   "outputs": [],
   "source": [
    "def peso_perdido(metros_corridos):\n",
    "    checkpoint_mts = 50\n",
    "    perde_peso = 0.1\n",
    "    \n",
    "    return (metros_corridos / checkpoint_mts) * perde_peso"
   ]
  },
  {
   "cell_type": "markdown",
   "metadata": {},
   "source": [
    "Cria um cachorro Jon"
   ]
  },
  {
   "cell_type": "code",
   "execution_count": 17,
   "metadata": {},
   "outputs": [],
   "source": [
    "jon = Cachorro(nome='Jon', raca='spitz', cor='caramelo', peso=4)"
   ]
  },
  {
   "cell_type": "code",
   "execution_count": 20,
   "metadata": {},
   "outputs": [
    {
     "data": {
      "text/plain": [
       "3.6999999999999997"
      ]
     },
     "execution_count": 20,
     "metadata": {},
     "output_type": "execute_result"
    }
   ],
   "source": [
    "jon.correr(50)\n",
    "jon.peso"
   ]
  }
 ],
 "metadata": {
  "kernelspec": {
   "display_name": "Python 3",
   "language": "python",
   "name": "python3"
  },
  "language_info": {
   "codemirror_mode": {
    "name": "ipython",
    "version": 3
   },
   "file_extension": ".py",
   "mimetype": "text/x-python",
   "name": "python",
   "nbconvert_exporter": "python",
   "pygments_lexer": "ipython3",
   "version": "3.7.3"
  }
 },
 "nbformat": 4,
 "nbformat_minor": 4
}
