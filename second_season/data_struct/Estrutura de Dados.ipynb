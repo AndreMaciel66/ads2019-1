{
 "cells": [
  {
   "cell_type": "markdown",
   "metadata": {},
   "source": [
    "# Análise e Desenvolvimento de Sistemas\n",
    "\n",
    "---\n",
    "## Estrutura de Dados\n",
    "\n",
    "### 2019-08-28\n",
    "#### Ponteiros\n",
    "\n",
    "- Um ponteiro é uma variável como outra qualquer, mas não armazena um valor inteiro, float ou char.\n",
    "- Um ponteiro armazena o endereço de memória\n",
    "  - Este endereço de memória normalmente é o endereço de uma outra variável\n",
    "  - O conteúdo de um ponteiro pode ser NULL (endereço nulo, ou seja, de nenhum lugar na memória)\n",
    "\n",
    "##### Variáveis x Ponteiros\n",
    "\n",
    "|**Variável**|**Ponteiro**|\n",
    "|---|---|\n",
    "|Representa uma posição de memória que armazena um determinado valor que pode variar durante uma execução|representa uma posição de memória|\n",
    "\n",
    "Declaração de Ponteiros\n",
    "\n",
    "- Ao declarar um ponteiro é necessário informar o tipo de dados deste ponteiro\n",
    "- Exemplos\n",
    "\n",
    "```c\n",
    "int *p;\n",
    "float *p2;\n",
    "char *p3;\n",
    "```\n",
    "\n",
    "#### Utilização de Ponteiros\n",
    "\n",
    "##### **Acessar o valor de um ponteiro**\n",
    "\n",
    "```c\n",
    "#include <stdio.h>\n",
    "int main(void){\n",
    "    int nro = 50;\n",
    "    int *p;\n",
    "    p = &nro;\n",
    "    printf(\"Conteúdo do ponteiro p: %d \\n\", *p);\n",
    "    printf(\"Conteúdo da variável nro: %d \\n\", nro);\n",
    "    *p = *p * 2;\n",
    "    printf(\"Conteúdo do ponteiro após conta: %d \\n\", *p);\n",
    "    printf(\"Conteúdo da variável nro: %d \\n\", nro);\n",
    "    return 0;\n",
    "}\n",
    "```\n",
    "---\n",
    "#### Let's create a numpy array\n",
    "##### Numpy - Array\n",
    "\n",
    "---\n",
    "\n",
    "[Referência-Documentação](https://docs.scipy.org/doc/numpy/reference/generated/numpy.array.html)"
   ]
  },
  {
   "cell_type": "code",
   "execution_count": 7,
   "metadata": {},
   "outputs": [
    {
     "data": {
      "text/plain": [
       "2"
      ]
     },
     "execution_count": 7,
     "metadata": {},
     "output_type": "execute_result"
    }
   ],
   "source": [
    "import numpy as np\n",
    "a = np.array([1, 2, 3])\n",
    "a[1]"
   ]
  }
 ],
 "metadata": {
  "kernelspec": {
   "display_name": "Python 3",
   "language": "python",
   "name": "python3"
  },
  "language_info": {
   "codemirror_mode": {
    "name": "ipython",
    "version": 3
   },
   "file_extension": ".py",
   "mimetype": "text/x-python",
   "name": "python",
   "nbconvert_exporter": "python",
   "pygments_lexer": "ipython3",
   "version": "3.7.3"
  }
 },
 "nbformat": 4,
 "nbformat_minor": 4
}
